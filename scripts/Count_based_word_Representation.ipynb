{
 "cells": [
  {
   "cell_type": "markdown",
   "id": "delayed-boxing",
   "metadata": {},
   "source": [
    "## Bag of Words(BoW)"
   ]
  },
  {
   "cell_type": "code",
   "execution_count": 1,
   "id": "superior-asbestos",
   "metadata": {},
   "outputs": [
    {
     "name": "stdout",
     "output_type": "stream",
     "text": [
      "{'내꺼인듯': 0, '내꺼': 1, '아닌': 2, '같은': 3, '너': 4, '란': 5, '사람': 6, '은': 7, '참': 8}\n",
      "[1, 2, 1, 1, 1, 1, 1, 1, 1]\n"
     ]
    }
   ],
   "source": [
    "from konlpy.tag import Okt\n",
    "okt=Okt()  \n",
    "\n",
    "token=\"내꺼인듯 내꺼아닌 내꺼같은 너란 사람은 참\"\n",
    "token=okt.morphs(token) # 형태소분석\n",
    "word2index={}  \n",
    "bow=[]\n",
    "# 토큰하나씩 들고온다\n",
    "for voca in token:\n",
    "    # word2index 안에 해당 토큰이 없다면\n",
    "    if voca not in word2index:  \n",
    "        # 인덱스(word2index길이만큼)를 지정해주고\n",
    "        word2index[voca]=len(word2index)\n",
    "        # 단어가 등장했으니, 빈도수를 담는 리스트에 1을 넣어준다.\n",
    "        bow.insert(len(word2index)-1,1)\n",
    "    # word2index 안에 있는 토큰이라면\n",
    "    else:\n",
    "        # 해당 토큰의 인덱스를 가져와서\n",
    "        index=word2index[voca]\n",
    "        # 한 번 더나왔으니 그 토큰의 인덱스로 빈도수 리스트에 접근하여 값을 1을 더해준다\n",
    "        bow[index]=bow[index]+1\n",
    "print(word2index) # 단어에 인덱스 부여\n",
    "print(bow)        # 빈도수저장\n"
   ]
  },
  {
   "cell_type": "code",
   "execution_count": 2,
   "id": "supported-capitol",
   "metadata": {},
   "outputs": [
    {
     "name": "stdout",
     "output_type": "stream",
     "text": [
      "[[1 1 1 1 1 0]\n",
      " [0 0 0 0 0 1]]\n",
      "{'내꺼인듯': 2, '내꺼아닌': 1, '내꺼같은': 0, '너란': 3, '사람은': 4, '아니': 5}\n"
     ]
    }
   ],
   "source": [
    "# scikit-learn 이용하기\n",
    "from sklearn.feature_extraction.text import CountVectorizer\n",
    "corpus = [\n",
    "    '내꺼인듯 내꺼아닌 내꺼같은 너란 사람은 참',\n",
    "    '아니 왜 한 글 자 는 없 어 지 는 거 지'\n",
    "]\n",
    "vector = CountVectorizer()\n",
    "\n",
    "print(vector.fit_transform(corpus).toarray()) # 코퍼스로부터 각 단어의 빈도 수를 기록한다.\n",
    "print(vector.vocabulary_) # 각 단어의 인덱스가 어떻게 부여되었는지를 보여준다. "
   ]
  },
  {
   "cell_type": "markdown",
   "id": "abstract-capacity",
   "metadata": {},
   "source": [
    "## TF-IDF"
   ]
  },
  {
   "cell_type": "code",
   "execution_count": 3,
   "id": "african-milwaukee",
   "metadata": {},
   "outputs": [],
   "source": [
    "import pandas as pd\n",
    "from math import log"
   ]
  },
  {
   "cell_type": "code",
   "execution_count": 4,
   "id": "mature-roller",
   "metadata": {},
   "outputs": [],
   "source": [
    "docs=[\n",
    "    ['안녕', '나는', '자연어는', '연어가', '아니야'],\n",
    "    ['연어' ,'먹고싶은' ,'연어', '덕후'],\n",
    "    ['안녕' ,'덕후' ,'연어' ,'먹으러' ,'가자'],\n",
    "    ['자연어' ,'처리' ,'어려워']\n",
    "]"
   ]
  },
  {
   "cell_type": "code",
   "execution_count": 5,
   "id": "impossible-playback",
   "metadata": {},
   "outputs": [],
   "source": [
    "N=len(docs)\n",
    "# 문서내 단어 빈도수\n",
    "def tf(word,doc):\n",
    "    return doc.count(word)\n",
    "\n",
    "# 해당 단어 문서내 등장 유무\n",
    "def idf(word):\n",
    "    df=0\n",
    "    for doc in docs:\n",
    "        df += word in doc\n",
    "    return log(N / (1+df))\n",
    "\n",
    "def tfidf(word, doc):\n",
    "    return tf(word,doc) * idf(word)"
   ]
  },
  {
   "cell_type": "code",
   "execution_count": 6,
   "id": "colored-mechanics",
   "metadata": {},
   "outputs": [
    {
     "name": "stdout",
     "output_type": "stream",
     "text": [
      "defaultdict(<class 'int'>, {'안녕': 2, '나는': 1, '자연어는': 1, '연어가': 1, '아니야': 1, '연어': 3, '먹고싶은': 1, '덕후': 2, '먹으러': 1, '가자': 1, '자연어': 1, '처리': 1, '어려워': 1})\n",
      "['나는', '자연어는', '연어가', '아니야', '먹고싶은', '먹으러', '가자', '자연어', '처리', '어려워', '안녕', '덕후', '연어']\n"
     ]
    }
   ],
   "source": [
    "# vocab 만들기\n",
    "\n",
    "vocab_=defaultdict(int)\n",
    "for doc in docs:\n",
    "    for word in doc:\n",
    "        vocab_[word]+=1\n",
    "print(vocab_)\n",
    "vocab__=sorted(vocab_.items(),key=lambda x:x[1])\n",
    "vocab=[i[0] for i in vocab__]\n",
    "print(vocab)"
   ]
  },
  {
   "cell_type": "code",
   "execution_count": 7,
   "id": "threatened-breast",
   "metadata": {
    "scrolled": true
   },
   "outputs": [
    {
     "data": {
      "text/html": [
       "<div>\n",
       "<style scoped>\n",
       "    .dataframe tbody tr th:only-of-type {\n",
       "        vertical-align: middle;\n",
       "    }\n",
       "\n",
       "    .dataframe tbody tr th {\n",
       "        vertical-align: top;\n",
       "    }\n",
       "\n",
       "    .dataframe thead th {\n",
       "        text-align: right;\n",
       "    }\n",
       "</style>\n",
       "<table border=\"1\" class=\"dataframe\">\n",
       "  <thead>\n",
       "    <tr style=\"text-align: right;\">\n",
       "      <th></th>\n",
       "      <th>나는</th>\n",
       "      <th>자연어는</th>\n",
       "      <th>연어가</th>\n",
       "      <th>아니야</th>\n",
       "      <th>먹고싶은</th>\n",
       "      <th>먹으러</th>\n",
       "      <th>가자</th>\n",
       "      <th>자연어</th>\n",
       "      <th>처리</th>\n",
       "      <th>어려워</th>\n",
       "      <th>안녕</th>\n",
       "      <th>덕후</th>\n",
       "      <th>연어</th>\n",
       "    </tr>\n",
       "  </thead>\n",
       "  <tbody>\n",
       "    <tr>\n",
       "      <th>0</th>\n",
       "      <td>1</td>\n",
       "      <td>1</td>\n",
       "      <td>1</td>\n",
       "      <td>1</td>\n",
       "      <td>0</td>\n",
       "      <td>0</td>\n",
       "      <td>0</td>\n",
       "      <td>0</td>\n",
       "      <td>0</td>\n",
       "      <td>0</td>\n",
       "      <td>1</td>\n",
       "      <td>0</td>\n",
       "      <td>0</td>\n",
       "    </tr>\n",
       "    <tr>\n",
       "      <th>1</th>\n",
       "      <td>0</td>\n",
       "      <td>0</td>\n",
       "      <td>0</td>\n",
       "      <td>0</td>\n",
       "      <td>1</td>\n",
       "      <td>0</td>\n",
       "      <td>0</td>\n",
       "      <td>0</td>\n",
       "      <td>0</td>\n",
       "      <td>0</td>\n",
       "      <td>0</td>\n",
       "      <td>1</td>\n",
       "      <td>2</td>\n",
       "    </tr>\n",
       "    <tr>\n",
       "      <th>2</th>\n",
       "      <td>0</td>\n",
       "      <td>0</td>\n",
       "      <td>0</td>\n",
       "      <td>0</td>\n",
       "      <td>0</td>\n",
       "      <td>1</td>\n",
       "      <td>1</td>\n",
       "      <td>0</td>\n",
       "      <td>0</td>\n",
       "      <td>0</td>\n",
       "      <td>1</td>\n",
       "      <td>1</td>\n",
       "      <td>1</td>\n",
       "    </tr>\n",
       "    <tr>\n",
       "      <th>3</th>\n",
       "      <td>0</td>\n",
       "      <td>0</td>\n",
       "      <td>0</td>\n",
       "      <td>0</td>\n",
       "      <td>0</td>\n",
       "      <td>0</td>\n",
       "      <td>0</td>\n",
       "      <td>1</td>\n",
       "      <td>1</td>\n",
       "      <td>1</td>\n",
       "      <td>0</td>\n",
       "      <td>0</td>\n",
       "      <td>0</td>\n",
       "    </tr>\n",
       "  </tbody>\n",
       "</table>\n",
       "</div>"
      ],
      "text/plain": [
       "   나는  자연어는  연어가  아니야  먹고싶은  먹으러  가자  자연어  처리  어려워  안녕  덕후  연어\n",
       "0   1     1    1    1     0    0   0    0   0    0   1   0   0\n",
       "1   0     0    0    0     1    0   0    0   0    0   0   1   2\n",
       "2   0     0    0    0     0    1   1    0   0    0   1   1   1\n",
       "3   0     0    0    0     0    0   0    1   1    1   0   0   0"
      ]
     },
     "execution_count": 7,
     "metadata": {},
     "output_type": "execute_result"
    }
   ],
   "source": [
    "# DTM 만들기\n",
    "dtm=[]\n",
    "for doc in docs:\n",
    "    tmp_list=[]\n",
    "    for word in vocab:\n",
    "        tf_=tf(word,doc)\n",
    "        tmp_list.append(tf_)\n",
    "    dtm.append(tmp_list)\n",
    "df=pd.DataFrame(dtm,columns=vocab)\n",
    "df"
   ]
  },
  {
   "cell_type": "code",
   "execution_count": 8,
   "id": "central-office",
   "metadata": {},
   "outputs": [
    {
     "data": {
      "text/html": [
       "<div>\n",
       "<style scoped>\n",
       "    .dataframe tbody tr th:only-of-type {\n",
       "        vertical-align: middle;\n",
       "    }\n",
       "\n",
       "    .dataframe tbody tr th {\n",
       "        vertical-align: top;\n",
       "    }\n",
       "\n",
       "    .dataframe thead th {\n",
       "        text-align: right;\n",
       "    }\n",
       "</style>\n",
       "<table border=\"1\" class=\"dataframe\">\n",
       "  <thead>\n",
       "    <tr style=\"text-align: right;\">\n",
       "      <th></th>\n",
       "      <th>나는</th>\n",
       "      <th>자연어는</th>\n",
       "      <th>연어가</th>\n",
       "      <th>아니야</th>\n",
       "      <th>먹고싶은</th>\n",
       "      <th>먹으러</th>\n",
       "      <th>가자</th>\n",
       "      <th>자연어</th>\n",
       "      <th>처리</th>\n",
       "      <th>어려워</th>\n",
       "      <th>안녕</th>\n",
       "      <th>덕후</th>\n",
       "      <th>연어</th>\n",
       "    </tr>\n",
       "  </thead>\n",
       "  <tbody>\n",
       "    <tr>\n",
       "      <th>0</th>\n",
       "      <td>0.693147</td>\n",
       "      <td>0.693147</td>\n",
       "      <td>0.693147</td>\n",
       "      <td>0.693147</td>\n",
       "      <td>0.000000</td>\n",
       "      <td>0.000000</td>\n",
       "      <td>0.000000</td>\n",
       "      <td>0.000000</td>\n",
       "      <td>0.000000</td>\n",
       "      <td>0.000000</td>\n",
       "      <td>0.287682</td>\n",
       "      <td>0.000000</td>\n",
       "      <td>0.000000</td>\n",
       "    </tr>\n",
       "    <tr>\n",
       "      <th>1</th>\n",
       "      <td>0.000000</td>\n",
       "      <td>0.000000</td>\n",
       "      <td>0.000000</td>\n",
       "      <td>0.000000</td>\n",
       "      <td>0.693147</td>\n",
       "      <td>0.000000</td>\n",
       "      <td>0.000000</td>\n",
       "      <td>0.000000</td>\n",
       "      <td>0.000000</td>\n",
       "      <td>0.000000</td>\n",
       "      <td>0.000000</td>\n",
       "      <td>0.287682</td>\n",
       "      <td>0.575364</td>\n",
       "    </tr>\n",
       "    <tr>\n",
       "      <th>2</th>\n",
       "      <td>0.000000</td>\n",
       "      <td>0.000000</td>\n",
       "      <td>0.000000</td>\n",
       "      <td>0.000000</td>\n",
       "      <td>0.000000</td>\n",
       "      <td>0.693147</td>\n",
       "      <td>0.693147</td>\n",
       "      <td>0.000000</td>\n",
       "      <td>0.000000</td>\n",
       "      <td>0.000000</td>\n",
       "      <td>0.287682</td>\n",
       "      <td>0.287682</td>\n",
       "      <td>0.287682</td>\n",
       "    </tr>\n",
       "    <tr>\n",
       "      <th>3</th>\n",
       "      <td>0.000000</td>\n",
       "      <td>0.000000</td>\n",
       "      <td>0.000000</td>\n",
       "      <td>0.000000</td>\n",
       "      <td>0.000000</td>\n",
       "      <td>0.000000</td>\n",
       "      <td>0.000000</td>\n",
       "      <td>0.693147</td>\n",
       "      <td>0.693147</td>\n",
       "      <td>0.693147</td>\n",
       "      <td>0.000000</td>\n",
       "      <td>0.000000</td>\n",
       "      <td>0.000000</td>\n",
       "    </tr>\n",
       "  </tbody>\n",
       "</table>\n",
       "</div>"
      ],
      "text/plain": [
       "         나는      자연어는       연어가       아니야      먹고싶은       먹으러        가자  \\\n",
       "0  0.693147  0.693147  0.693147  0.693147  0.000000  0.000000  0.000000   \n",
       "1  0.000000  0.000000  0.000000  0.000000  0.693147  0.000000  0.000000   \n",
       "2  0.000000  0.000000  0.000000  0.000000  0.000000  0.693147  0.693147   \n",
       "3  0.000000  0.000000  0.000000  0.000000  0.000000  0.000000  0.000000   \n",
       "\n",
       "        자연어        처리       어려워        안녕        덕후        연어  \n",
       "0  0.000000  0.000000  0.000000  0.287682  0.000000  0.000000  \n",
       "1  0.000000  0.000000  0.000000  0.000000  0.287682  0.575364  \n",
       "2  0.000000  0.000000  0.000000  0.287682  0.287682  0.287682  \n",
       "3  0.693147  0.693147  0.693147  0.000000  0.000000  0.000000  "
      ]
     },
     "execution_count": 8,
     "metadata": {},
     "output_type": "execute_result"
    }
   ],
   "source": [
    "# TF-IDF matrix 만들기\n",
    "tfidf_=[]\n",
    "for doc in docs:\n",
    "    tmp_list=[]\n",
    "    for word in vocab:\n",
    "        tmp_list.append(tfidf(word,doc))\n",
    "    tfidf_.append(tmp_list)\n",
    "df_result=pd.DataFrame(tfidf_,columns=vocab)\n",
    "df_result\n"
   ]
  }
 ],
 "metadata": {
  "kernelspec": {
   "display_name": "Python 3",
   "language": "python",
   "name": "python3"
  },
  "language_info": {
   "codemirror_mode": {
    "name": "ipython",
    "version": 3
   },
   "file_extension": ".py",
   "mimetype": "text/x-python",
   "name": "python",
   "nbconvert_exporter": "python",
   "pygments_lexer": "ipython3",
   "version": "3.7.9"
  }
 },
 "nbformat": 4,
 "nbformat_minor": 5
}
