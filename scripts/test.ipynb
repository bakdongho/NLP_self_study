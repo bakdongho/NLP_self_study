{
 "cells": [
  {
   "cell_type": "code",
   "execution_count": 1,
   "id": "opposite-favorite",
   "metadata": {},
   "outputs": [
    {
     "data": {
      "text/plain": [
       "[('아령', 'Noun'),\n",
       " ('하세', 'Verb'),\n",
       " ('연', 'Noun'),\n",
       " ('저', 'Noun'),\n",
       " ('는', 'Josa'),\n",
       " ('모', 'Modifier'),\n",
       " ('다세', 'Noun'),\n",
       " ('욘', 'Noun'),\n",
       " ('이에요', 'Josa')]"
      ]
     },
     "execution_count": 1,
     "metadata": {},
     "output_type": "execute_result"
    }
   ],
   "source": [
    "from konlpy.tag import Okt\n",
    "okt=Okt()\n"
   ]
  },
  {
   "cell_type": "code",
   "execution_count": null,
   "id": "e77ae31c",
   "metadata": {},
   "outputs": [],
   "source": [
    "text='아령하세연 저는 모다세욘 이에요'\n",
    "okt.pos(text)"
   ]
  },
  {
   "cell_type": "code",
   "execution_count": 2,
   "id": "unavailable-drama",
   "metadata": {},
   "outputs": [],
   "source": [
    "from PyKomoran import *\n",
    "model_path='/Users/dong/.env/nlp_env/lib/python3.7/site-packages/PyKomoran/models_full'\n",
    "user_dic_path='/Users/dong/.env/nlp_env/lib/python3.7/site-packages/PyKomoran/user_dic.txt'\n",
    "komoran = Komoran(model_path)\n",
    "komoran.set_user_dic(user_dic_path)\n"
   ]
  },
  {
   "cell_type": "code",
   "execution_count": 3,
   "id": "objective-element",
   "metadata": {},
   "outputs": [
    {
     "name": "stdout",
     "output_type": "stream",
     "text": [
      "KOMORAN/SL 은/JX 한국어/NNP 형태소/NNP 분석기/NNG 이/VCP ㅂ니다/EF ./SF\n",
      "[아이오아이/NNP(0,5), 너무너무/MAG(6,10), 조/NR(11,12), 아/NNP(12,13), 요/JX(13,14), 너무너무/MAG(15,19), 아이오아이/NNP(20,25), 양/NNP(25,26)]\n",
      "아이오아이/NNP 너무너무/MAG 조/NR 아/NNP 요/JX 너무너무/MAG 아이오아이/NNP 양/NNP\n"
     ]
    },
    {
     "data": {
      "text/plain": [
       "{'NNG': '일반 명사', 'NNP': '고유 명사', 'NNB': '의존 명사', 'NP': '대명사', 'NR': '수사', 'VV': '동사', 'VA': '형용사', 'VX': '보조 용언', 'VCP': '긍정 지정사', 'VCN': '부정 지정사', 'MM': '관형사', 'MAG': '일반 부사', 'MAJ': '접속 부사', 'IC': '감탄사', 'JKS': '주격 조사', 'JKC': '보격 조사', 'JKG': '관형격 조사', 'JKO': '목적격 조사', 'JKB': '부사격 조사', 'JKV': '호격 조사', 'JKQ': '인용격 조사', 'JX': '보조사', 'JC': '접속 조사', 'EP': '선어말 어미', 'EF': '종결 어미', 'EC': '연결 어미', 'ETN': '명사형 전성 어미', 'ETM': '관형형 전성 어미 ', 'XPN': '체언 접두사', 'XSN': '명사 파생 접미사', 'XSV': '동사 파생 접미사', 'XSA': '형용사 파생 접미사', 'XR': '어근', 'SF': '마침표,물음표,느낌표', 'SP': '쉼표,가운뎃점,콜론,빗금', 'SS': '따옴표,괄호표,줄표', 'SE': '줄임표', 'SO': '붙임표(물결,숨김,빠짐)', 'SL': '외국어', 'SH': '한자', 'SW': '기타기호(논리수학기호,화폐기호)', 'NF': '명사추정범주', 'NV': '용언추정범주', 'SN': '숫자', 'NA': '분석불능범주'}"
      ]
     },
     "execution_count": 3,
     "metadata": {},
     "output_type": "execute_result"
    }
   ],
   "source": [
    "print(komoran.get_plain_text(\"KOMORAN은 한국어 형태소 분석기입니다.\"))\n",
    "print(komoran.pos(\"아이오아이 너무너무 조아요 너무너무 아이오아이양\"))\n",
    "print(komoran.get_plain_text(\"아이오아이 너무너무 조아요 너무너무 아이오아이양\"))\n",
    "komoran.pos_table"
   ]
  },
  {
   "cell_type": "code",
   "execution_count": null,
   "id": "2797900c",
   "metadata": {},
   "outputs": [],
   "source": []
  }
 ],
 "metadata": {
  "kernelspec": {
   "display_name": "Python 3",
   "language": "python",
   "name": "python3"
  },
  "language_info": {
   "codemirror_mode": {
    "name": "ipython",
    "version": 3
   },
   "file_extension": ".py",
   "mimetype": "text/x-python",
   "name": "python",
   "nbconvert_exporter": "python",
   "pygments_lexer": "ipython3",
   "version": "3.7.9"
  }
 },
 "nbformat": 4,
 "nbformat_minor": 5
}
