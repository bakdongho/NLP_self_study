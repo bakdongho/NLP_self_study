{
 "cells": [
  {
   "cell_type": "markdown",
   "id": "2fc7cf31",
   "metadata": {},
   "source": [
    "## 패딩"
   ]
  },
  {
   "cell_type": "markdown",
   "id": "db36cf1d",
   "metadata": {},
   "source": [
    "### 1. Numpy 사용하기\n",
    "- 저번 예제에서 사용한 토큰화 결과 사용"
   ]
  },
  {
   "cell_type": "code",
   "execution_count": 8,
   "id": "44c67bcc",
   "metadata": {},
   "outputs": [],
   "source": [
    "results=[\n",
    "    ['문자', '인코딩', '인코딩', '사용자', '입력', '문자', '기호', '컴퓨터', '이용', '신호', '말'], \n",
    "    ['의미', '컴퓨터', '신호', '입력', '처리', '기계', '뜻', '신호', '처리', '시스템', '통해', '처리', '정보', '사용자', '이해'], \n",
    "    ['신호', '입력', '인코딩', '문자', '해독', '디코딩', '위해', '선', '미리', '정해진', '기준', '바탕', '입력', '해독', '처리', '문자열', '세트', '문자셋'], \n",
    "    ['초기', '보급', '컴퓨터', '문자열', '세트', '아스키', '표준', '문자열', '세트', '세계', '곳곳', '인터넷', '보급', '표현', '문자', '증가', '문자셋', '표준화', '위해', '대체', '방식', '개발'], \n",
    "    ['표준', '문자셋', '개발', '대한', '논의', '유니코드', '등장']\n",
    "]"
   ]
  },
  {
   "cell_type": "code",
   "execution_count": 9,
   "id": "37368120",
   "metadata": {},
   "outputs": [
    {
     "name": "stdout",
     "output_type": "stream",
     "text": [
      "[[1, 5, 5, 10, 2, 1, 16, 6, 17, 3, 18], [19, 6, 3, 2, 4, 20, 21, 3, 4, 22, 23, 4, 24, 10, 25], [3, 2, 5, 1, 11, 26, 12, 27, 28, 29, 30, 31, 2, 11, 4, 7, 8, 9], [32, 13, 6, 7, 8, 33, 14, 7, 8, 34, 35, 36, 13, 37, 1, 38, 9, 39, 12, 40, 41, 15], [14, 9, 15, 42, 43, 44, 45]]\n"
     ]
    }
   ],
   "source": [
    "import numpy as np\n",
    "from tensorflow.keras.preprocessing.text import Tokenizer\n",
    "\n",
    "tokenizer = Tokenizer()\n",
    "\n",
    "# 빈도수 높은 순으로 인덱스 부여 \n",
    "tokenizer.fit_on_texts(results)\n",
    "\n",
    "# 정수 인코딩\n",
    "encoded = tokenizer.texts_to_sequences(results)\n",
    "print(encoded)"
   ]
  },
  {
   "cell_type": "code",
   "execution_count": 10,
   "id": "6d7c2539",
   "metadata": {},
   "outputs": [
    {
     "name": "stdout",
     "output_type": "stream",
     "text": [
      "22\n"
     ]
    }
   ],
   "source": [
    "# 동일한 길이로 맞춰주기 위해 가장 길이가 긴 문장 계산\n",
    "max_len = max(len(item) for item in encoded)\n",
    "print(max_len)"
   ]
  },
  {
   "cell_type": "code",
   "execution_count": 11,
   "id": "996bcf49",
   "metadata": {},
   "outputs": [
    {
     "data": {
      "text/plain": [
       "array([[ 1,  5,  5, 10,  2,  1, 16,  6, 17,  3, 18,  0,  0,  0,  0,  0,\n",
       "         0,  0,  0,  0,  0,  0],\n",
       "       [19,  6,  3,  2,  4, 20, 21,  3,  4, 22, 23,  4, 24, 10, 25,  0,\n",
       "         0,  0,  0,  0,  0,  0],\n",
       "       [ 3,  2,  5,  1, 11, 26, 12, 27, 28, 29, 30, 31,  2, 11,  4,  7,\n",
       "         8,  9,  0,  0,  0,  0],\n",
       "       [32, 13,  6,  7,  8, 33, 14,  7,  8, 34, 35, 36, 13, 37,  1, 38,\n",
       "         9, 39, 12, 40, 41, 15],\n",
       "       [14,  9, 15, 42, 43, 44, 45,  0,  0,  0,  0,  0,  0,  0,  0,  0,\n",
       "         0,  0,  0,  0,  0,  0]])"
      ]
     },
     "execution_count": 11,
     "metadata": {},
     "output_type": "execute_result"
    }
   ],
   "source": [
    "# 위에서 구한 제일 긴 문장 기준으로 다른 문장 길이 맞추기\n",
    "for item in encoded: # 각 문장에 대해서\n",
    "    while len(item) < max_len:   # max_len보다 작으면\n",
    "        item.append(0)\n",
    "\n",
    "padded_np = np.array(encoded)\n",
    "padded_np"
   ]
  },
  {
   "cell_type": "markdown",
   "id": "0882480b",
   "metadata": {},
   "source": [
    "### 2. Keras 텍스트 전처리 도구로 패딩"
   ]
  },
  {
   "cell_type": "code",
   "execution_count": 12,
   "id": "718c10a9",
   "metadata": {},
   "outputs": [
    {
     "name": "stdout",
     "output_type": "stream",
     "text": [
      "[[1, 5, 5, 10, 2, 1, 16, 6, 17, 3, 18], [19, 6, 3, 2, 4, 20, 21, 3, 4, 22, 23, 4, 24, 10, 25], [3, 2, 5, 1, 11, 26, 12, 27, 28, 29, 30, 31, 2, 11, 4, 7, 8, 9], [32, 13, 6, 7, 8, 33, 14, 7, 8, 34, 35, 36, 13, 37, 1, 38, 9, 39, 12, 40, 41, 15], [14, 9, 15, 42, 43, 44, 45]]\n"
     ]
    }
   ],
   "source": [
    "from tensorflow.keras.preprocessing.sequence import pad_sequences\n",
    "\n",
    "\n",
    "encoded_ker = tokenizer.texts_to_sequences(results)\n",
    "print(encoded_ker)"
   ]
  },
  {
   "cell_type": "code",
   "execution_count": 13,
   "id": "c53101ce",
   "metadata": {},
   "outputs": [
    {
     "data": {
      "text/plain": [
       "array([[ 0,  0,  0,  0,  0,  0,  0,  0,  0,  0,  0,  1,  5,  5, 10,  2,\n",
       "         1, 16,  6, 17,  3, 18],\n",
       "       [ 0,  0,  0,  0,  0,  0,  0, 19,  6,  3,  2,  4, 20, 21,  3,  4,\n",
       "        22, 23,  4, 24, 10, 25],\n",
       "       [ 0,  0,  0,  0,  3,  2,  5,  1, 11, 26, 12, 27, 28, 29, 30, 31,\n",
       "         2, 11,  4,  7,  8,  9],\n",
       "       [32, 13,  6,  7,  8, 33, 14,  7,  8, 34, 35, 36, 13, 37,  1, 38,\n",
       "         9, 39, 12, 40, 41, 15],\n",
       "       [ 0,  0,  0,  0,  0,  0,  0,  0,  0,  0,  0,  0,  0,  0,  0, 14,\n",
       "         9, 15, 42, 43, 44, 45]], dtype=int32)"
      ]
     },
     "execution_count": 13,
     "metadata": {},
     "output_type": "execute_result"
    }
   ],
   "source": [
    "# pad_sequences method 사용\n",
    "padded = pad_sequences(encoded_ker)\n",
    "padded"
   ]
  },
  {
   "cell_type": "code",
   "execution_count": 14,
   "id": "9de3144d",
   "metadata": {},
   "outputs": [
    {
     "data": {
      "text/plain": [
       "array([[ 1,  5,  5, 10,  2,  1, 16,  6, 17,  3, 18,  0,  0,  0,  0,  0,\n",
       "         0,  0,  0,  0,  0,  0],\n",
       "       [19,  6,  3,  2,  4, 20, 21,  3,  4, 22, 23,  4, 24, 10, 25,  0,\n",
       "         0,  0,  0,  0,  0,  0],\n",
       "       [ 3,  2,  5,  1, 11, 26, 12, 27, 28, 29, 30, 31,  2, 11,  4,  7,\n",
       "         8,  9,  0,  0,  0,  0],\n",
       "       [32, 13,  6,  7,  8, 33, 14,  7,  8, 34, 35, 36, 13, 37,  1, 38,\n",
       "         9, 39, 12, 40, 41, 15],\n",
       "       [14,  9, 15, 42, 43, 44, 45,  0,  0,  0,  0,  0,  0,  0,  0,  0,\n",
       "         0,  0,  0,  0,  0,  0]], dtype=int32)"
      ]
     },
     "execution_count": 14,
     "metadata": {},
     "output_type": "execute_result"
    }
   ],
   "source": [
    "# 뒤에서부터 채우려면 파라미터 값 추가 padding = 'post'\n",
    "padded = pad_sequences(encoded_ker,padding = 'post')\n",
    "padded"
   ]
  },
  {
   "cell_type": "code",
   "execution_count": 15,
   "id": "2797900c",
   "metadata": {},
   "outputs": [
    {
     "data": {
      "text/plain": [
       "array([[16,  6, 17,  3, 18],\n",
       "       [23,  4, 24, 10, 25],\n",
       "       [11,  4,  7,  8,  9],\n",
       "       [39, 12, 40, 41, 15],\n",
       "       [15, 42, 43, 44, 45]], dtype=int32)"
      ]
     },
     "execution_count": 15,
     "metadata": {},
     "output_type": "execute_result"
    }
   ],
   "source": [
    "# maxlen 파라미터로 패딩 길이 조절. default는 문장 중 최대 길이\n",
    "padded = pad_sequences(encoded_ker, padding = 'post', maxlen = 5)\n",
    "padded"
   ]
  },
  {
   "cell_type": "code",
   "execution_count": 16,
   "id": "ae52f22e",
   "metadata": {},
   "outputs": [
    {
     "name": "stdout",
     "output_type": "stream",
     "text": [
      "46\n"
     ]
    },
    {
     "data": {
      "text/plain": [
       "array([[ 1,  5,  5, 10,  2,  1, 16,  6, 17,  3, 18, 46, 46, 46, 46, 46,\n",
       "        46, 46, 46, 46, 46, 46],\n",
       "       [19,  6,  3,  2,  4, 20, 21,  3,  4, 22, 23,  4, 24, 10, 25, 46,\n",
       "        46, 46, 46, 46, 46, 46],\n",
       "       [ 3,  2,  5,  1, 11, 26, 12, 27, 28, 29, 30, 31,  2, 11,  4,  7,\n",
       "         8,  9, 46, 46, 46, 46],\n",
       "       [32, 13,  6,  7,  8, 33, 14,  7,  8, 34, 35, 36, 13, 37,  1, 38,\n",
       "         9, 39, 12, 40, 41, 15],\n",
       "       [14,  9, 15, 42, 43, 44, 45, 46, 46, 46, 46, 46, 46, 46, 46, 46,\n",
       "        46, 46, 46, 46, 46, 46]], dtype=int32)"
      ]
     },
     "execution_count": 16,
     "metadata": {},
     "output_type": "execute_result"
    }
   ],
   "source": [
    "# 숫자 0으로 패딩하는 것은 널리 퍼진 관례이다.\n",
    "# 다른 숫자 사용하고싶으면 다른 단어들이랑 겹치지 않기 위해 \n",
    "# 단어 집합 크기보다 +1인 값을 value 파라미터에 넣어주면됨.\n",
    "\n",
    "last_value = len(tokenizer.word_index) + 1\n",
    "print(last_value)\n",
    "\n",
    "padded = pad_sequences(encoded_ker, padding = 'post', value = last_value)\n",
    "padded"
   ]
  },
  {
   "cell_type": "markdown",
   "id": "b19dac45",
   "metadata": {},
   "source": [
    "## + 문장길이 분포 확인해보기\n",
    "- 몇개 없어서 이렇게 나왔지만, 문서 양이 많다면 확인할 수 있을 것이다."
   ]
  },
  {
   "cell_type": "code",
   "execution_count": 17,
   "id": "fd045d08",
   "metadata": {},
   "outputs": [
    {
     "data": {
      "image/png": "[encoded data removed]",
      "text/plain": [
       "<Figure size 432x288 with 1 Axes>"
      ]
     },
     "metadata": {
      "needs_background": "light"
     },
     "output_type": "display_data"
    }
   ],
   "source": [
    "import matplotlib.pyplot as plt\n",
    "from collections import defaultdict\n",
    "\n",
    "# 0(int)을 default를 갖는 딕셔너리 생성\n",
    "length_dic=defaultdict(int)\n",
    "\n",
    "# 각 문장에 대해\n",
    "for line in results:\n",
    "    # 문장의 길이를 키로 하여 value는 몇개인지 저장\n",
    "    length_dic[len(line)]+=1\n",
    "    \n",
    "plt.bar(length_dic.keys(),length_dic.values())\n",
    "plt.show()"
   ]
  },
  {
   "cell_type": "code",
   "execution_count": null,
   "id": "cd4b10f1",
   "metadata": {},
   "outputs": [],
   "source": []
  }
 ],
 "metadata": {
  "kernelspec": {
   "display_name": "Python 3",
   "language": "python",
   "name": "python3"
  },
  "language_info": {
   "codemirror_mode": {
    "name": "ipython",
    "version": 3
   },
   "file_extension": ".py",
   "mimetype": "text/x-python",
   "name": "python",
   "nbconvert_exporter": "python",
   "pygments_lexer": "ipython3",
   "version": "3.7.10"
  }
 },
 "nbformat": 4,
 "nbformat_minor": 5
}
