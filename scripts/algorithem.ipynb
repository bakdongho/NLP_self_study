{
 "cells": [
  {
   "cell_type": "code",
   "execution_count": 2,
   "id": "fc2eab62",
   "metadata": {},
   "outputs": [
    {
     "name": "stdout",
     "output_type": "stream",
     "text": [
      "2\n",
      "OOXXOXXOOO\n",
      "OOXXOOXXOO\n",
      "[10, 9]\n"
     ]
    }
   ],
   "source": [
    "# 입력\n",
    "num=int(input())\n",
    "total_result=list()\n",
    "# 첫번쨰 입력만큼 반복\n",
    "for i in range(num):\n",
    "    # 테스트 입력\n",
    "    test=input()\n",
    "    \n",
    "    # 최종 점수 가중치 초기화\n",
    "    score=0\n",
    "    weight=0\n",
    "    \n",
    "    # 몇개 맞춘지 하나씩 찾아보기\n",
    "    for n,i in enumerate(test):\n",
    "        if i==\"O\":\n",
    "            weight+=1\n",
    "            score+=weight\n",
    "        else :\n",
    "            weight=0\n",
    "    total_result.append(score)\n",
    "    \n",
    "# 출력\n",
    "for i in range(len(total_result)):\n",
    "    print(total_result[i])\n"
   ]
  },
  {
   "cell_type": "code",
   "execution_count": 17,
   "id": "02df6644",
   "metadata": {},
   "outputs": [
    {
     "name": "stdout",
     "output_type": "stream",
     "text": [
      "1\n",
      "9 100 99 98 97 96 95 94 93 91\n",
      "55.556%\n"
     ]
    }
   ],
   "source": [
    "# 입력\n",
    "num=int(input())\n",
    "\n",
    "result_list=[]\n",
    "# 첫 입력만큼 반복\n",
    "for _ in range(num):\n",
    "    # 입력값 리스트로 저장\n",
    "    num_list=list(map(int,input().split()))\n",
    "    # 총 개수 저장\n",
    "    num_len=num_list[0]\n",
    "    # 평균 구하기\n",
    "    avg=sum(num_list[1:]) / num_len\n",
    "    # 평균보다 높은 수 구하기\n",
    "    cnt=0\n",
    "    for i in num_list[1:]:\n",
    "        if i>avg:\n",
    "            cnt += 1 \n",
    "            \n",
    "    result=(cnt/num_len)*100\n",
    "    \n",
    "    # 결과 저장\n",
    "    result_list.append(result)\n",
    "    \n",
    "# 출력\n",
    "for i in range(len(result_list)):\n",
    "    print('%.3f' % result_list[i]+'%')"
   ]
  },
  {
   "cell_type": "code",
   "execution_count": null,
   "id": "a4f058d0",
   "metadata": {},
   "outputs": [],
   "source": []
  }
 ],
 "metadata": {
  "kernelspec": {
   "display_name": "Python 3",
   "language": "python",
   "name": "python3"
  },
  "language_info": {
   "codemirror_mode": {
    "name": "ipython",
    "version": 3
   },
   "file_extension": ".py",
   "mimetype": "text/x-python",
   "name": "python",
   "nbconvert_exporter": "python",
   "pygments_lexer": "ipython3",
   "version": "3.7.9"
  }
 },
 "nbformat": 4,
 "nbformat_minor": 5
}
